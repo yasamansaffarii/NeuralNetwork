{
  "nbformat": 4,
  "nbformat_minor": 0,
  "metadata": {
    "colab": {
      "name": "1-6.ipynb",
      "provenance": []
    },
    "kernelspec": {
      "name": "python3",
      "display_name": "Python 3"
    },
    "language_info": {
      "name": "python"
    }
  },
  "cells": [
    {
      "cell_type": "code",
      "metadata": {
        "colab": {
          "base_uri": "https://localhost:8080/"
        },
        "id": "4GKHCzioVn2W",
        "outputId": "65d93fae-4f0a-488a-bb31-0c3263d89010"
      },
      "source": [
        "import numpy as np\n",
        "\n",
        "X = np.array([\n",
        "    [-2,4,-1],\n",
        "    [4,1,-1],\n",
        "    [1, 6, -1],\n",
        "    [2, 4, -1],\n",
        "    [6, 2, -1],\n",
        "\n",
        "])\n",
        "\n",
        "y = np.array([-1,-1,1,1,1])\n",
        "\n",
        "def perceptron_sgd(X, Y):\n",
        "    w = np.zeros(len(X[0]))\n",
        "    eta = 1\n",
        "    epochs = 20\n",
        "\n",
        "    for t in range(epochs):\n",
        "        for i, x in enumerate(X):\n",
        "            if (np.dot(X[i], w)*Y[i]) <= 0:\n",
        "                w = w + eta*X[i]*Y[i]\n",
        "\n",
        "    return w\n",
        "\n",
        "w = perceptron_sgd(X,y)\n",
        "print(w)"
      ],
      "execution_count": 1,
      "outputs": [
        {
          "output_type": "stream",
          "text": [
            "[ 2.  3. 13.]\n"
          ],
          "name": "stdout"
        }
      ]
    }
  ]
}